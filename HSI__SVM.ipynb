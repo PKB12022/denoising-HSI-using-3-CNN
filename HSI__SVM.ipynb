{
  "nbformat": 4,
  "nbformat_minor": 0,
  "metadata": {
    "colab": {
      "provenance": []
    },
    "kernelspec": {
      "name": "python3",
      "display_name": "Python 3"
    },
    "language_info": {
      "name": "python"
    }
  },
  "cells": [
    {
      "cell_type": "code",
      "source": [
        "import numpy as np\n",
        "import scipy.io as sio\n",
        "import cv2\n",
        "from sklearn.svm import SVC\n",
        "from sklearn.model_selection import train_test_split\n",
        "from sklearn.preprocessing import StandardScaler\n",
        "from sklearn.metrics import accuracy_score, classification_report\n",
        "\n",
        "# 📌 Load Hyperspectral Image Data\n",
        "def load_hsi_data(file_path, label_path):\n",
        "    if file_path.endswith(\".mat\"):\n",
        "        data = sio.loadmat(file_path)['data']\n",
        "        labels = sio.loadmat(label_path)['labels']\n",
        "    elif file_path.endswith(\".npy\"):\n",
        "        data = np.load(file_path)\n",
        "        labels = np.load(label_path)\n",
        "    else:\n",
        "        raise ValueError(\"Unsupported file format\")\n",
        "\n",
        "    return data, labels\n",
        "\n",
        "# 📌 Preprocess the Data\n",
        "def preprocess_hsi(data, labels):\n",
        "\n",
        "    h, w, c = data.shape\n",
        "    data = data.reshape(-1, c)\n",
        "    labels = labels.flatten()\n",
        "\n",
        "    mask = labels > 0\n",
        "    data = data[mask]\n",
        "    labels = labels[mask]\n",
        "    scaler = StandardScaler()\n",
        "    data = scaler.fit_transform(data)\n",
        "    X_train, X_test, y_train, y_test = train_test_split(data, labels, test_size=0.2, random_state=42)\n",
        "\n",
        "    return X_train, X_test, y_train, y_test\n",
        "\n",
        "# 📌 Train SVM Model\n",
        "def train_svm(X_train, y_train):\n",
        "\n",
        "    svm = SVC(kernel='rbf', C=1.0, gamma='scale')\n",
        "    svm.fit(X_train, y_train)\n",
        "    return svm\n",
        "\n",
        "# 📌 Evaluate Model\n",
        "def evaluate_svm(model, X_test, y_test):\n",
        "    y_pred = model.predict(X_test)\n",
        "    acc = accuracy_score(y_test, y_pred)\n",
        "    report = classification_report(y_test, y_pred)\n",
        "\n",
        "    print(f\"✅ SVM Accuracy: {acc * 100:.2f}%\")\n",
        "    print(\"📌 Classification Report:\\n\", report)\n",
        "\n",
        "# 📌 Run the SVM Pipeline\n",
        "if __name__ == \"__main__\":\n",
        "    file_path = \"hsi_data.mat\"\n",
        "    label_path = \"hsi_labels.mat\"\n",
        "\n",
        "    print(\"Loading Data...\")\n",
        "    data, labels = load_hsi_data(file_path, label_path)\n",
        "\n",
        "    print(\"Preprocessing Data...\")\n",
        "    X_train, X_test, y_train, y_test = preprocess_hsi(data, labels)\n",
        "\n",
        "    print(\"Training SVM Model...\")\n",
        "    svm_model = train_svm(X_train, y_train)\n",
        "\n",
        "    print(\"Evaluating Model...\")\n",
        "    evaluate_svm(svm_model, X_test, y_test)\n"
      ],
      "metadata": {
        "id": "ozyf4ZsgdvgH"
      },
      "execution_count": null,
      "outputs": []
    }
  ]
}